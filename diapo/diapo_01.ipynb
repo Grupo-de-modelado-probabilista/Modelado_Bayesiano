{
 "cells": [
  {
   "cell_type": "code",
   "execution_count": 1,
   "metadata": {
    "slideshow": {
     "slide_type": "skip"
    }
   },
   "outputs": [],
   "source": [
    "import numpy as np\n",
    "from scipy import stats, special\n",
    "import matplotlib.pyplot as plt\n",
    "import arviz as az\n",
    "\n",
    "from ipywidgets import interact\n",
    "import ipywidgets as ipyw"
   ]
  },
  {
   "cell_type": "code",
   "execution_count": 2,
   "metadata": {
    "slideshow": {
     "slide_type": "skip"
    }
   },
   "outputs": [],
   "source": [
    "az.style.use('arviz-darkgrid')"
   ]
  },
  {
   "cell_type": "code",
   "execution_count": 3,
   "metadata": {
    "slideshow": {
     "slide_type": "skip"
    }
   },
   "outputs": [
    {
     "data": {
      "text/html": [
       "<style>\n",
       "\n",
       ".CodeMirror {\n",
       "    width: 100vw;\n",
       "}\n",
       "\n",
       ".container {\n",
       "    width: 99% !important;\n",
       "}\n",
       "\n",
       ".rendered_html {\n",
       "  font-size:0.8em;\n",
       "}\n",
       ".rendered_html table, .rendered_html th, .rendered_html tr, .rendered_html td {\n",
       "     font-size: 100%;\n",
       "}\n",
       "\n",
       "\n",
       "body {\n",
       "  font-family: Ubuntu;\n",
       "  background: #F0F0F0;\n",
       "  background-color: #F0F0F0;\n",
       "}\n",
       "\n",
       "\n",
       ".reveal h1,\n",
       ".reveal h2,\n",
       ".reveal h3,\n",
       ".reveal h4,\n",
       ".reveal h5,\n",
       ".reveal h6 {\n",
       "  margin: 0 0 20px 0;\n",
       "  color: #2a2eec;\n",
       "  font-family: Ubuntu;\n",
       "  line-height: 0.9em;\n",
       "  letter-spacing: 0.02em;\n",
       "  text-transform: none;\n",
       "  text-shadow: none;\n",
       "}\n",
       "\n",
       ".reveal blockquote {\n",
       "  display: block;\n",
       "  position: relative;\n",
       "  background: #fa7c17;\n",
       "  border-radius: 15px;\n",
       "  box-shadow: 0px 0px 2px rgba(0, 0, 0, 0.2);\n",
       "  font-weight: bold;\n",
       "}\n",
       "\n",
       "</style>\n"
      ],
      "text/plain": [
       "<IPython.core.display.HTML object>"
      ]
     },
     "metadata": {},
     "output_type": "display_data"
    }
   ],
   "source": [
    "%%HTML\n",
    "<style>\n",
    "\n",
    ".CodeMirror {\n",
    "    width: 100vw;\n",
    "}\n",
    "\n",
    ".container {\n",
    "    width: 99% !important;\n",
    "}\n",
    "\n",
    ".rendered_html {\n",
    "  font-size:0.8em;\n",
    "}\n",
    ".rendered_html table, .rendered_html th, .rendered_html tr, .rendered_html td {\n",
    "     font-size: 100%;\n",
    "}\n",
    "\n",
    "\n",
    "body {\n",
    "  font-family: Ubuntu;\n",
    "  background: #F0F0F0;\n",
    "  background-color: #F0F0F0;\n",
    "}\n",
    "\n",
    "\n",
    ".reveal h1,\n",
    ".reveal h2,\n",
    ".reveal h3,\n",
    ".reveal h4,\n",
    ".reveal h5,\n",
    ".reveal h6 {\n",
    "  margin: 0 0 20px 0;\n",
    "  color: #2a2eec;\n",
    "  font-family: Ubuntu;\n",
    "  line-height: 0.9em;\n",
    "  letter-spacing: 0.02em;\n",
    "  text-transform: none;\n",
    "  text-shadow: none;\n",
    "}\n",
    "\n",
    ".reveal blockquote {\n",
    "  display: block;\n",
    "  position: relative;\n",
    "  background: #fa7c17;\n",
    "  border-radius: 15px;\n",
    "  box-shadow: 0px 0px 2px rgba(0, 0, 0, 0.2);\n",
    "  font-weight: bold;\n",
    "}\n",
    "\n",
    "</style>"
   ]
  },
  {
   "cell_type": "code",
   "execution_count": 4,
   "metadata": {
    "slideshow": {
     "slide_type": "skip"
    }
   },
   "outputs": [],
   "source": [
    "from traitlets.config.manager import BaseJSONConfigManager\n",
    "path = \"/home/osvaldo/anaconda3/etc/jupyter/nbconfig\"\n",
    "cm = BaseJSONConfigManager(config_dir=path)\n",
    "cm.update(\"livereveal\", {\n",
    "              \"theme\": \"serif\",\n",
    "              \"transition\": \"zoom\",\n",
    "              \"start_slideshow_at\": \"selected\",\n",
    "              \"controls\": \"False\",\n",
    "              \"progress\": \"False\",\n",
    "              \"shortcut\": \"False\",});\n"
   ]
  },
  {
   "cell_type": "markdown",
   "metadata": {
    "slideshow": {
     "slide_type": "slide"
    }
   },
   "source": [
    "<center><img src=\"img/logo_inst.png\" width=\"750\">\n",
    "<br>\n",
    "<br>\n",
    "<br>\n",
    "<br>\n",
    "<h1 align=\"center\">Teorema de Bayes e inferencia estadística</h1>\n",
    "\n",
    "\n",
    "\n",
    "<br>\n",
    "<br>\n",
    "<br>\n",
    "<br>\n",
    "<br>"
   ]
  },
  {
   "cell_type": "markdown",
   "metadata": {
    "slideshow": {
     "slide_type": "slide"
    }
   },
   "source": [
    "## Objetivos\n",
    "\n",
    "\n",
    "* Comprender el teorema de Bayes\n",
    "* Comprender que implica hacer estadística Bayesiana\n",
    "* Aprender cómo se interpretan las probabilidades en estadística Bayesiana\n",
    "* Entender las distribuciones a priori, a posteriori y a posteriori predictiva \n"
   ]
  },
  {
   "cell_type": "markdown",
   "metadata": {
    "slideshow": {
     "slide_type": "slide"
    }
   },
   "source": [
    "## Modelado Bayesiano\n",
    "\n",
    "<br>\n",
    "\n",
    "* La estadística es una forma de modelado \n",
    "\n",
    "* Los modelos estadísticos generan datos\n",
    "\n",
    "* Un modelo Bayesiano tiene dos requisitos:\n",
    "    1. Las cantidades desconocidas (parámetros) son modeladas usando **distribuciones de probabilidad**\n",
    "    2. Las cantidades conocidas (datos) son combinadas con la **distribución a priori de parámetros** usando el **Teorema de Bayes**"
   ]
  },
  {
   "cell_type": "markdown",
   "metadata": {
    "slideshow": {
     "slide_type": "slide"
    }
   },
   "source": [
    "## Estadística Bayesiana\n",
    "\n",
    "<br>\n",
    "\n",
    "* Las distribuciones de probabiliad _distribuyen_ probabilidades (credibilidades) entre un cierto conjunto de eventos\n",
    "\n",
    "\n",
    "* La estadística Bayesiana es la re-distribución de probabilidades (credibilidades)"
   ]
  },
  {
   "cell_type": "markdown",
   "metadata": {},
   "source": [
    "mostrar unaestimación puntual\n",
    "mostrar distribuciones\n",
    "mostrar meme like/dislike"
   ]
  },
  {
   "cell_type": "markdown",
   "metadata": {
    "slideshow": {
     "slide_type": "slide"
    }
   },
   "source": [
    "## Teorema de Bayes\n",
    "\n",
    "<br>\n",
    "\n",
    "$$\\underbrace{p(\\theta \\mid y)}_{a \\ posteriori} = \\frac{\\overbrace{p(y \\mid \\theta)}^{\\text{likelihood}}\\; \\overbrace{p(\\theta)}^{a \\ priori}}{\\underbrace{\\color{red}{p(y)}}_{\\text{likelihood marginal}}}$$\n",
    "<br>\n",
    "\n",
    "* $\\theta$ representa los parámetros en nuestros modelos (lo que queremos averiguar o aprender)\n",
    "* $y$ representa los datos\n",
    "\n",
    "\n",
    "* El objeto central de la estadística Bayesiana es la distribución _a posteriori_.\n",
    "\n",
    "\n",
    "* $\\color{red}{p(y) = \\int_{\\Theta} p(y \\mid \\theta)p(\\theta) d(\\theta)}$ Generalmente no tiene solución analítica o es muy costosa\n",
    "--> Métodos numéricos al rescate!"
   ]
  },
  {
   "cell_type": "markdown",
   "metadata": {
    "nbpresent": {
     "id": "22d50ce8-b4cd-44d3-955f-f798cc43b6cb"
    },
    "slideshow": {
     "slide_type": "slide"
    }
   },
   "source": [
    "## Estadística Bayesiana en 3 pasos (flujo Bayesiano simplificado)\n",
    "\n",
    "<br>\n",
    " \n",
    "\n",
    "1. **Crear un modelo probabilista**. Especificar un modelo de probabilidad que incluya algún tipo de conocimiento previo sobre los parámetros del modelo\n",
    "\n",
    "\n",
    "2. **Condicionar el modelo a los datos observados**. Usando el teorema de Bayes la distribución a priori es actualizada de acuerdo a los datos observados,  obteniendose la distribución _a posteriori_.\n",
    "\n",
    "\n",
    "3. <font color = \"gray\"> **Evaluar el ajuste del modelo a los datos y la sensibilidad de las conclusiones a cambios en los supuestos del modelo.**. </font>"
   ]
  },
  {
   "cell_type": "markdown",
   "metadata": {
    "nbpresent": {
     "id": "1752f282-61fe-42b0-a0c8-31d05f2c8e5a"
    },
    "slideshow": {
     "slide_type": "slide"
    }
   },
   "source": [
    "## Estadística de monedas mágicas\n",
    "\n",
    "<br>\n",
    "\n",
    "* Queremos modelar el resultado de arrojar una moneda al aire.\n",
    "    * Cuál es la probabilidad de desarrolar cancer gástrico cuando se consumen dosis bajas de aspirina?\n",
    "    * Cuál es la probabiliad que una persona esté a favor del aborto?\n",
    "\n",
    "* Nuestro parámetro, $\\theta$, puede tomar valores en el intervalo [0, 1]\n",
    "    * $\\theta = 1 \\implies$ siempre cara\n",
    "    * $\\theta = 0 \\implies$ siempre ceca\n",
    "\n",
    "* De acuerdo al teorema de Bayes es necesario definir un *likelihood* y un *prior*:\n",
    "\n",
    "\n",
    "$$p(\\theta \\mid y) \\propto \\underbrace{p(y \\mid \\theta)}_{\\text{?}} \\; \\underbrace{p(\\theta)}_{?}$$"
   ]
  },
  {
   "cell_type": "markdown",
   "metadata": {
    "nbpresent": {
     "id": "a6e3c377-8d9e-4396-a5a8-3e0f3926b84d"
    },
    "slideshow": {
     "slide_type": "slide"
    }
   },
   "source": [
    "## El modelo beta-binomial\n",
    "\n",
    "<br>\n",
    "<br>\n",
    "Representación matemática:\n",
    "$$\n",
    "\\theta \\sim \\operatorname{Beta}(\\alpha, \\beta) \\\\\n",
    "y \\sim \\operatorname{Bin}(n=1, p=\\theta)\n",
    "$$\n",
    "\n",
    "\n",
    "<br>\n",
    "\n",
    "Representación visual (gráfo dirigido y acíclico):\n",
    "<img src=\"img/modelo_1_moneda.png\" width=300>\n",
    "\n",
    "De arriba hacia abajo, tenemos la distribución *a priori*, luego el likelihood, y finalmente los datos. Las flechas indican la relación entre las partes del modelo, el símbolo $\\sim$ la naturaleza estocástica de las variables."
   ]
  },
  {
   "cell_type": "code",
   "execution_count": 5,
   "metadata": {
    "hide_input": true,
    "nbpresent": {
     "id": "75216216-868d-4f0a-ab77-042f673db5c4"
    },
    "slideshow": {
     "slide_type": "slide"
    }
   },
   "outputs": [
    {
     "data": {
      "application/vnd.jupyter.widget-view+json": {
       "model_id": "4eafe1cbef53494e96a030dea2260956",
       "version_major": 2,
       "version_minor": 0
      },
      "text/plain": [
       "interactive(children=(FloatSlider(value=2.0, description='α', max=7.0, min=0.5, step=0.5), FloatSlider(value=2…"
      ]
     },
     "metadata": {},
     "output_type": "display_data"
    }
   ],
   "source": [
    "def beta(α, β):\n",
    "    x = np.linspace(0, 1, 130)\n",
    "    beta = stats.beta(α, β)\n",
    "    plt.plot(x, beta.pdf(x))\n",
    "    plt.yticks([])\n",
    "    plt.ylim(0, 6)\n",
    "\n",
    "interact(beta,\n",
    "         α=ipyw.FloatSlider(min=0.5, max=7, step=0.5, value=2),\n",
    "         β=ipyw.FloatSlider(min=0.5, max=7, step=0.5, value=2));"
   ]
  },
  {
   "cell_type": "code",
   "execution_count": 6,
   "metadata": {
    "nbpresent": {
     "id": "8f7f8e91-ae8d-4f01-b29b-0f7e2bb0d8b1"
    },
    "slideshow": {
     "slide_type": "slide"
    }
   },
   "outputs": [
    {
     "data": {
      "application/vnd.jupyter.widget-view+json": {
       "model_id": "b3a07550bc67409f8b9ae60f76c20361",
       "version_major": 2,
       "version_minor": 0
      },
      "text/plain": [
       "interactive(children=(IntSlider(value=1, description='n', max=10, min=1), FloatSlider(value=0.5, description='…"
      ]
     },
     "metadata": {},
     "output_type": "display_data"
    }
   ],
   "source": [
    "def binomial(n, θ):\n",
    "    bino = stats.binom(\n",
    "        n, θ)\n",
    "    plt.bar(range(n+1), bino.pmf(range(n+1)))\n",
    "    plt.xticks(range(n+1))\n",
    "    plt.ylim(0, 1);\n",
    "\n",
    "interact(binomial, n=ipyw.IntSlider(min=1, max=10, value=1), θ=ipyw.FloatSlider(min=0, max=1, step=0.05, value=0.5));"
   ]
  },
  {
   "cell_type": "markdown",
   "metadata": {
    "nbpresent": {
     "id": "6fe8d8ca-0bf8-47ef-8170-b375eede645a"
    },
    "slideshow": {
     "slide_type": "slide"
    }
   },
   "source": [
    "### La distribución *a posteriori*\n",
    "\n",
    "Como ya vimos el prior congujado de la distribución binomial es la distribución beta y estos nos conduce a una distribución *a posteriori*  con los siguientes parámetros\n",
    "\n",
    "<br>\n",
    "\n",
    "$$\n",
    "p(\\theta \\mid \\mathbf{Y}) \\propto \\operatorname{Beta}(\\alpha=\\alpha_{prior} + y , \\quad \\beta= \\beta_{prior} + N - y)\n",
    "$$\n",
    "\n",
    "<br>\n",
    "\n",
    "Cuando se cumple que para una cierta probabilidad la forma funcional de un prior y la de un posterior es la misma, se dice que la distribución a prior está conjugada con la distribución a posteriori."
   ]
  },
  {
   "cell_type": "code",
   "execution_count": 7,
   "metadata": {
    "hide_input": true,
    "nbpresent": {
     "id": "bf1b519c-69dd-42d5-b637-80ef31d70d7f"
    },
    "scrolled": false,
    "slideshow": {
     "slide_type": "slide"
    }
   },
   "outputs": [
    {
     "name": "stderr",
     "output_type": "stream",
     "text": [
      "/tmp/ipykernel_34822/4029030089.py:29: UserWarning: This figure was using constrained_layout, but that is incompatible with subplots_adjust and/or tight_layout; disabling constrained_layout.\n",
      "  plt.tight_layout()\n"
     ]
    },
    {
     "data": {
      "image/png": "[encoded data removed]",
      "text/plain": [
       "<Figure size 1200x900 with 10 Axes>"
      ]
     },
     "metadata": {},
     "output_type": "display_data"
    }
   ],
   "source": [
    "plt.figure(figsize=(12, 9))\n",
    "\n",
    "n_trials = [0, 1, 2, 3, 4, 8, 16, 32, 50, 150]\n",
    "data = [0, 1, 1, 1, 1, 4, 6, 9, 13, 48]\n",
    "θ_real = 0.35\n",
    "\n",
    "beta_params = [(1, 1), (0.5, 0.5), (20, 20)]\n",
    "dist = stats.beta\n",
    "x = np.linspace(0, 1, 2000)\n",
    "\n",
    "for idx, N in enumerate(n_trials):\n",
    "    if idx == 0:\n",
    "        plt.subplot(4, 3, 2)\n",
    "        plt.xlabel('θ')\n",
    "    else:\n",
    "        plt.subplot(4, 3, idx+3)\n",
    "        plt.xticks([])\n",
    "    y = data[idx]\n",
    "    for (α, β) in beta_params:\n",
    "        p_θ_dado_y = dist.pdf(x, α + y, β + N - y)\n",
    "        plt.fill_between(x, 0, p_θ_dado_y, alpha=0.7)\n",
    "\n",
    "    plt.plot(θ_real, 0, marker='o', mec='w', mfc='k')\n",
    "    plt.plot(0, 0, label=f'{N:4d} experimentos\\n{y:4d} caras', alpha=0)\n",
    "    plt.xlim(0, 1)\n",
    "    plt.ylim(0, 12)\n",
    "    plt.legend()\n",
    "    plt.yticks([])\n",
    "plt.tight_layout()"
   ]
  },
  {
   "cell_type": "markdown",
   "metadata": {
    "slideshow": {
     "slide_type": "slide"
    }
   },
   "source": [
    "## Distribución predictiva a posteriori\n",
    "\n",
    "**Conceptualmente**: es la distribución de datos predicha ($\\tilde{y}$) de acuerdo a la distribución *a posteriori* (y los ya datos observados)\n",
    "\n",
    "\n",
    "**Matemáticamente**\n",
    "\n",
    "$$p(\\tilde{y} \\,|\\, y) = \\int p(\\tilde{y} \\,|\\, \\theta) \\, p(\\theta \\,|\\, y) \\, d\\theta$$\n",
    "\n",
    "\n",
    "**Computacionalmente** (correr el modelo hacia adelante)\n",
    "\n",
    "1. Elegir a partir de la distribución _a posteriori_ un valor de $\\theta$\n",
    "2. Introduzca ese valor la distribución usada como likelihood\n",
    "3. Repita 1 y 2 tantas veces como sea necesario."
   ]
  },
  {
   "cell_type": "markdown",
   "metadata": {
    "slideshow": {
     "slide_type": "slide"
    }
   },
   "source": [
    "## Distribución predictiva a priori\n",
    "\n",
    "**Conceptualmente**: es la distribución de datos predicha por el modelo antes de haber visto los datos\n",
    "\n",
    "\n",
    "**Matemáticamente**\n",
    "\n",
    "$$\n",
    "p(y^\\ast) =  \\int p(y \\mid \\theta) p(\\theta) d\\theta\n",
    "$$\n",
    "\n",
    "\n",
    "**Computacionalmente** (correr el modelo hacia adelante)\n",
    "\n",
    "1. Elegir a partir de la distribución _a priori_ un valor de $\\theta$\n",
    "2. Introduzca ese valor la distribución usada como likelihood\n",
    "3. Repita 1 y 2 tantas veces como sea necesario."
   ]
  },
  {
   "cell_type": "markdown",
   "metadata": {
    "slideshow": {
     "slide_type": "slide"
    }
   },
   "source": [
    "## Recapitulando\n",
    "\n",
    "* Los modelos producen datos\n",
    "* Los modelos tienen parámetros desconocidos\n",
    "* A los parámetros les asociamos distributiones de probabilidad *a priori*\n",
    "* El teorema de Bayes nos permite combinar datos con distribuciones *a priori*\n",
    "* La distribución *a posteriori* es la distribución conjunta de los parámetros, luego de haber observado datos\n",
    "* Esperamos que la distribución *a posteriori* tenga menos incerteza que la distribución *a priori*\n",
    "* La distribución predictiva *a priori* es la distribución esperada para (nuevos) datos"
   ]
  },
  {
   "cell_type": "markdown",
   "metadata": {
    "slideshow": {
     "slide_type": "slide"
    }
   },
   "source": [
    "## Ejercicios\n",
    "\n",
    "1. Supongamos que tenemos dos monedas una que cae la mitad de veces cara y la mitad ceca y una moneda trucada que cae siempre cara. Si tomamos una de las monedas al azar y obtenemos cara, cual es la probabilidad que esa moneda sea la trucada.\n",
    "\n",
    "\n",
    "2. El problema del diagnóstico. En una población una de cada mil personas tiene una enfermedad. Una persona tomada al azar de esa población da positivo en un test para dicha enfermedad. El test da positivo el 99 % de las veces que una persona tiene la enfermedad. Dicho test tiene además una tasa de falsos positivos del 5 %.\n",
    "\n",
    "    1. ¿Cuál es la probabilidad de que dicha persona tenga la enfermedad?\n",
    "    \n",
    "    1. Si realizamos el mismo análisis una segunda vez sobre el mismo paciente y obtenemos nuevamente positivo ¿Cuál seria la probabilidad que el paciente esté enfermo? ¿Y si diera negativo? ¿Para el segundo análisis el *a priori* es el mismo que para el primer caso?\n",
    "\n",
    "\n",
    "3. Usando `p_θ_dado_y = stats.beta.pdf(x, α + y, β + N - y)` con `x = np.linspace(0, 1, 2000)` calcular el posterior de un modelo binomial. ¿Cuál es la probabilidad que los valores de θ se encuentren en el intervalo comprendido entre 0.45 y 0.55 para cada uno de los siguientes casos?\n",
    "    1. α = β = 1, N = 4, y = 2\n",
    "    2. α = β = 2, N = 4, y = 2\n",
    "    3. α = β = 1, N = 40, y = 20\n",
    "    4. α = β = 2, N = 40, y = 20\n",
    "    5. Elija valores para  α, β, N e y\n",
    "\n",
    "4. Usando el mismo modelo del punto anterior para α = β = 1, N = 16, y = 5\n",
    "    1. ¿Cuál es el valor de θ por debajo del cual tenemos el 20% de densidad de probabilidad?\n",
    "    2. ¿Cuál es el valor de θ por encima del cual tenemos el 20% de densidad de probabilidad?\n",
    "    3. ¿Cual intervalo contiene el 40% de la densidad de probabilidad?\n",
    "\n",
    "5. Use la siguiente función para explorar diversas combinaciones de _priors_ y _likelihoods_. Enuncie las conclusiones que considere más relevantes."
   ]
  },
  {
   "cell_type": "code",
   "execution_count": 8,
   "metadata": {
    "slideshow": {
     "slide_type": "slide"
    }
   },
   "outputs": [
    {
     "data": {
      "application/vnd.jupyter.widget-view+json": {
       "model_id": "53a2d4a2c699414f84c449d82c408334",
       "version_major": 2,
       "version_minor": 0
      },
      "text/plain": [
       "interactive(children=(IntSlider(value=15, description='grilla', min=2), FloatSlider(value=1.0, description='a'…"
      ]
     },
     "metadata": {},
     "output_type": "display_data"
    }
   ],
   "source": [
    "def a_posteriori_grilla(grilla=10, a=1, b=1, caras=6, tiradas=9):\n",
    "    grid = np.linspace(0, 1, grilla)\n",
    "    prior = stats.beta(a, b).pdf(grid)\n",
    "    likelihood = stats.binom.pmf(caras, tiradas, grid)\n",
    "    posterior = likelihood * prior\n",
    "    posterior /= posterior.sum()\n",
    "    _, ax = plt.subplots(1, 3, sharex=True, figsize=(16, 4))\n",
    "    ax[0].set_title('caras = {}\\ntiradas = {}'.format(caras, tiradas))\n",
    "    for i, (e, e_n) in enumerate(zip([prior, likelihood, posterior], ['a priori', 'likelihood', 'a posteriori'])):\n",
    "        ax[i].set_yticks([])\n",
    "        ax[i].plot(grid, e, 'o-', label=e_n)\n",
    "        ax[i].legend(fontsize=14)\n",
    "\n",
    "\n",
    "interact(a_posteriori_grilla, grilla=ipyw.IntSlider(min=2, max=100, step=1, value=15), a=ipyw.FloatSlider(min=1, max=7, step=1, value=1), b=ipyw.FloatSlider(\n",
    "    min=1, max=7, step=1, value=1), caras=ipyw.IntSlider(min=0, max=20, step=1, value=6), tiradas=ipyw.IntSlider(min=0, max=20, step=1, value=9));"
   ]
  }
 ],
 "metadata": {
  "celltoolbar": "Slideshow",
  "hide_input": false,
  "kernelspec": {
   "display_name": "Python 3 (ipykernel)",
   "language": "python",
   "name": "python3"
  },
  "language_info": {
   "codemirror_mode": {
    "name": "ipython",
    "version": 3
   },
   "file_extension": ".py",
   "mimetype": "text/x-python",
   "name": "python",
   "nbconvert_exporter": "python",
   "pygments_lexer": "ipython3",
   "version": "3.9.13"
  }
 },
 "nbformat": 4,
 "nbformat_minor": 2
}
