{
 "cells": [
  {
   "cell_type": "code",
   "execution_count": 1,
   "metadata": {
    "slideshow": {
     "slide_type": "skip"
    }
   },
   "outputs": [],
   "source": [
    "import arviz as az\n",
    "import matplotlib.pyplot as plt\n",
    "import numpy as np\n",
    "import pandas as pd\n",
    "import pymc as pm"
   ]
  },
  {
   "cell_type": "code",
   "execution_count": 2,
   "metadata": {
    "slideshow": {
     "slide_type": "skip"
    }
   },
   "outputs": [],
   "source": [
    "az.style.use('arviz-white')"
   ]
  },
  {
   "cell_type": "code",
   "execution_count": 3,
   "metadata": {
    "slideshow": {
     "slide_type": "skip"
    }
   },
   "outputs": [
    {
     "data": {
      "text/html": [
       "<style>\n",
       "\n",
       ".CodeMirror {\n",
       "    width: 100vw;\n",
       "}\n",
       "\n",
       ".container {\n",
       "    width: 99% !important;\n",
       "}\n",
       "\n",
       ".rendered_html {\n",
       "  font-size:0.8em;\n",
       "}\n",
       ".rendered_html table, .rendered_html th, .rendered_html tr, .rendered_html td {\n",
       "     font-size: 100%;\n",
       "}\n",
       "\n",
       "\n",
       "body {\n",
       "  font-family: Ubuntu;\n",
       "  background: #F0F0F0;\n",
       "  background-color: #F0F0F0;\n",
       "}\n",
       "\n",
       "\n",
       ".reveal h1,\n",
       ".reveal h2,\n",
       ".reveal h3,\n",
       ".reveal h4,\n",
       ".reveal h5,\n",
       ".reveal h6 {\n",
       "  margin: 0 0 20px 0;\n",
       "  color: #2a2eec;\n",
       "  font-family: Ubuntu;\n",
       "  line-height: 0.9em;\n",
       "  letter-spacing: 0.02em;\n",
       "  text-transform: none;\n",
       "  text-shadow: none;\n",
       "}\n",
       "\n",
       ".reveal blockquote {\n",
       "  display: block;\n",
       "  position: relative;\n",
       "  background: #fa7c17;\n",
       "  border-radius: 15px;\n",
       "  box-shadow: 0px 0px 2px rgba(0, 0, 0, 0.2);\n",
       "  font-weight: bold;\n",
       "}\n",
       "\n",
       "</style>\n"
      ],
      "text/plain": [
       "<IPython.core.display.HTML object>"
      ]
     },
     "metadata": {},
     "output_type": "display_data"
    }
   ],
   "source": [
    "%%HTML\n",
    "<style>\n",
    "\n",
    ".CodeMirror {\n",
    "    width: 100vw;\n",
    "}\n",
    "\n",
    ".container {\n",
    "    width: 99% !important;\n",
    "}\n",
    "\n",
    ".rendered_html {\n",
    "  font-size:0.8em;\n",
    "}\n",
    ".rendered_html table, .rendered_html th, .rendered_html tr, .rendered_html td {\n",
    "     font-size: 100%;\n",
    "}\n",
    "\n",
    "\n",
    "body {\n",
    "  font-family: Ubuntu;\n",
    "  background: #F0F0F0;\n",
    "  background-color: #F0F0F0;\n",
    "}\n",
    "\n",
    "\n",
    ".reveal h1,\n",
    ".reveal h2,\n",
    ".reveal h3,\n",
    ".reveal h4,\n",
    ".reveal h5,\n",
    ".reveal h6 {\n",
    "  margin: 0 0 20px 0;\n",
    "  color: #2a2eec;\n",
    "  font-family: Ubuntu;\n",
    "  line-height: 0.9em;\n",
    "  letter-spacing: 0.02em;\n",
    "  text-transform: none;\n",
    "  text-shadow: none;\n",
    "}\n",
    "\n",
    ".reveal blockquote {\n",
    "  display: block;\n",
    "  position: relative;\n",
    "  background: #fa7c17;\n",
    "  border-radius: 15px;\n",
    "  box-shadow: 0px 0px 2px rgba(0, 0, 0, 0.2);\n",
    "  font-weight: bold;\n",
    "}\n",
    "\n",
    "</style>"
   ]
  },
  {
   "cell_type": "code",
   "execution_count": 4,
   "metadata": {
    "slideshow": {
     "slide_type": "skip"
    }
   },
   "outputs": [],
   "source": [
    "from traitlets.config.manager import BaseJSONConfigManager\n",
    "path = \"/home/osvaldo/anaconda3/etc/jupyter/nbconfig\"\n",
    "cm = BaseJSONConfigManager(config_dir=path)\n",
    "cm.update(\"livereveal\", {\n",
    "              \"theme\": \"serif\",\n",
    "              \"transition\": \"zoom\",\n",
    "              \"start_slideshow_at\": \"selected\",\n",
    "              \"controls\": \"True\",\n",
    "              \"progress\": \"False\",\n",
    "              \"shortcut\": \"False\",});"
   ]
  },
  {
   "cell_type": "markdown",
   "metadata": {
    "hide_input": false,
    "slideshow": {
     "slide_type": "slide"
    }
   },
   "source": [
    "<center><img src=\"img/logo_inst.png\" width=\"700\">\n",
    "<br>\n",
    "<br>\n",
    "<br>\n",
    "<br>\n",
    "<h1 align=\"center\">Análisis exploratorio de modelos Bayesianos</h1> \n",
    "<h2 align=\"center\">Comparación de modelos</h2>\n",
    "\n",
    "\n",
    "\n",
    "<br>\n",
    "<br>\n",
    "<br>\n",
    "<br>\n",
    "<br>"
   ]
  },
  {
   "cell_type": "markdown",
   "metadata": {
    "slideshow": {
     "slide_type": "slide"
    }
   },
   "source": [
    "## ArviZ: Análisis exploratorio de modelos Bayesianos\n",
    "\n",
    "<br>\n",
    "<br>\n",
    "<center><img src=\"img/logo_arviz.png\" width=500></center>\n",
    "<br>\n",
    "\n",
    "* <font color = \"gray\"> Diagnosticar la calidad de la inferencia </font>\n",
    "* <font color = \"gray\"> Criticar a los modelos, incluyendo la evaluación de los supuestos del modelo y de sus predicciones </font>\n",
    "* Comparación de modelos, incluyendo la selección y promediado de modelos\n",
    "* <font color = \"gray\"> Preparar los resultados para una audiencia particular </font>"
   ]
  },
  {
   "cell_type": "code",
   "execution_count": 15,
   "metadata": {
    "hide_input": true,
    "slideshow": {
     "slide_type": "slide"
    }
   },
   "outputs": [
    {
     "data": {
      "image/png": "[encoded data removed]",
      "text/plain": [
       "<Figure size 1200x400 with 1 Axes>"
      ]
     },
     "metadata": {},
     "output_type": "display_data"
    }
   ],
   "source": [
    "_, ax = plt.subplots(1, 1, figsize=(12, 4))\n",
    "\n",
    "\n",
    "x0 = np.array([4., 5., 6., 9., 12, 14.])\n",
    "y0 = np.array([4.2, 6.1, 5., 10., 10, 14.])\n",
    "\n",
    "order = [0, 1, 5]\n",
    "ax.plot(x0, y0, 'ko', zorder=3)\n",
    "\n",
    "\n",
    "ax.set_yticks([])\n",
    "ax.set_xticks([])\n",
    "\n",
    "x_n = np.linspace(x0.min(), x0.max(), 100)\n",
    "ps = []\n",
    "for i in order:\n",
    "    p = np.polynomial.Polynomial.fit(x0, y0, deg=i)\n",
    "    ps.append(p)\n",
    "    yhat = p(x0)\n",
    "    ybar = np.mean(y0)\n",
    "    ss_regression = np.sum((yhat-y0)**2)\n",
    "    ss_total = np.sum((ybar-y0)**2)\n",
    "    r2 = 1 - ss_regression / ss_total\n",
    "    ax.plot(x_n, p(x_n), label=f'orden {i}, $R^2$= {r2:.3f}')\n",
    "\n",
    "    \n",
    "ax.legend(loc=2, fontsize=12);"
   ]
  },
  {
   "cell_type": "code",
   "execution_count": 16,
   "metadata": {
    "hide_input": true,
    "slideshow": {
     "slide_type": "slide"
    }
   },
   "outputs": [
    {
     "data": {
      "image/png": "[encoded data removed]",
      "text/plain": [
       "<Figure size 1200x400 with 1 Axes>"
      ]
     },
     "metadata": {},
     "output_type": "display_data"
    }
   ],
   "source": [
    "_, ax = plt.subplots( figsize=(12, 4))\n",
    "x_ = np.array([6.5, 10])\n",
    "y_ = np.array([7, 10])\n",
    "\n",
    "ax.plot(x0, y0, 'ko', zorder=3)\n",
    "ax.plot(x_, y_, 'ks', zorder=3)\n",
    "\n",
    "ax.set_yticks([])\n",
    "ax.set_xticks([])\n",
    "\n",
    "x1 = np.concatenate((x0, x_))\n",
    "y1 = np.concatenate((y0, y_))\n",
    "\n",
    "for idx, i in enumerate(order):\n",
    "    yhat = ps[idx](x1)\n",
    "    ybar = np.mean(y1)\n",
    "    ss_regression = np.sum((yhat-y1)**2)\n",
    "    ss_total = np.sum((ybar-y1)**2)\n",
    "    r2 = 1 - ss_regression / ss_total\n",
    "    ax.plot(x_n, ps[idx](x_n), label=f'orden {i}, $R^2$= {r2:.3f}')\n",
    "\n",
    "    \n",
    "ax.legend(loc=2, fontsize=12);"
   ]
  },
  {
   "cell_type": "markdown",
   "metadata": {
    "slideshow": {
     "slide_type": "slide"
    }
   },
   "source": [
    "## Medidas de precisión predictiva\n",
    "\n",
    "\n",
    "<br>\n",
    "\n",
    "* **precisión dentro de la muestra**: la exactitud medida con los datos utilizados para ajustar un modelo\n",
    "\n",
    "\n",
    "* **precisión fuera de la muestra** (o exactitud predictiva): la exactitud del modelo medido con datos no utilizados para ajustar el modelo\n",
    "\n",
    "\n",
    "\n",
    "* Si solo usamos la exactitud dentro de la muestra podríamos pensar que tenemos un modelo mejor de lo que realmente es\n"
   ]
  },
  {
   "cell_type": "markdown",
   "metadata": {
    "slideshow": {
     "slide_type": "slide"
    }
   },
   "source": [
    "## Medidas de precisión predictiva\n",
    "\n",
    "<br>\n",
    "\n",
    "* Utilizar la precisión fuera de la muestra, requiere dejar de lado una porción de los datos durante el ajuste, y usar esa porción solo para la evaluación. Esto suele ser un lujo.\n",
    "\n",
    "\n",
    "* Alternativas:\n",
    "     * Validación cruzada\n",
    "     * Criterios de información"
   ]
  },
  {
   "cell_type": "markdown",
   "metadata": {
    "slideshow": {
     "slide_type": "slide"
    }
   },
   "source": [
    "## Criterios de información\n",
    "\n",
    "\n",
    "* Los criterios de información estiman la precisión fuera de la muestra a partir de la precisión dentro de la muestra\n",
    "\n",
    "* El AIC es un criterio de información muy conocido y ampliamente utilizado, especialmente fuera del mundo Bayesiano. Se define como:\n",
    "\n",
    "$$AIC = -2 \\underbrace{\\sum_{i}^{N} \\log p(y_i \\mid \\hat{\\theta}_{mle})}_{\\text{bondad ajuste}} + \\overbrace{\\; 2 k \\;\n",
    "}^{\\text{penalización}} $$\n",
    "\n",
    "Donde\n",
    "* $\\hat {\\theta}_{mle}$ es una estimación puntual, la suma se realiza sobre las $N$ observaciones\n",
    "\n",
    "* $k$ es la cantidad de parámetros del modelo."
   ]
  },
  {
   "cell_type": "markdown",
   "metadata": {
    "slideshow": {
     "slide_type": "slide"
    }
   },
   "source": [
    "## Validación cruzada (crossvalidation, CV)\n",
    "\n",
    "<br>\n",
    "\n",
    "\n",
    "* Existen muchas [variantes](https://en.wikipedia.org/wiki/Cross-validation_(statistics)), pero de forma general...\n",
    "\n",
    "\n",
    "* Dado un conjunto de datos lo dividimos en 2 grupos\n",
    "\n",
    "* Un grupo lo usamos para entrenar/ajustar el modelo (train)\n",
    "\n",
    "* El otro para evaluar el ajuste (test)\n"
   ]
  },
  {
   "cell_type": "markdown",
   "metadata": {
    "slideshow": {
     "slide_type": "slide"
    }
   },
   "source": [
    "## k-fold-CV\n",
    "\n",
    "<br>\n",
    "\n",
    "* Dividimos los datos en k-grupos (sin repetir datos) los usamos para ajustar el modelo k-veces\n",
    "\n",
    "<br>\n",
    "\n",
    "\n",
    "<center><img src=\"img/KfoldCV.gif\" width=600></center>\n"
   ]
  },
  {
   "cell_type": "markdown",
   "metadata": {
    "slideshow": {
     "slide_type": "slide"
    }
   },
   "source": [
    "## LOO-CV\n",
    "\n",
    "<br>\n",
    "\n",
    "* Si k=1 entonces tenemos leave-one-out-CV. Hay que ajustar el modelo tantas veces como datos tengamos\n",
    "\n",
    "<br>\n",
    "\n",
    "\n",
    "<center><img src=\"img/LOOCV.gif\" width=500></center>\n"
   ]
  },
  {
   "cell_type": "markdown",
   "metadata": {
    "slideshow": {
     "slide_type": "slide"
    }
   },
   "source": [
    "## Leave-One-Out-Cross-Validation\n",
    "\n",
    "<br>\n",
    "\n",
    "\n",
    "$$\n",
    "\\text{ELPD}_\\text{LOO-CV} = \\sum_{i=1}^{n} \\log\n",
    "    \\int \\ p(y_i \\mid \\boldsymbol{\\theta}) \\; p(\\boldsymbol{\\theta} \\mid y_{-i}) d\\boldsymbol{\\theta}\n",
    "$$\n",
    "\n",
    "$$\n",
    "\\sum_{i}^{n} \\log\n",
    "    \\left(\\frac{1}{s}\\sum_j^s \\ \\color{#E9692C}{p(y_i \\mid \\boldsymbol{\\theta_{-i}^j})} \\right)\n",
    "$$\n",
    "\n",
    "\n",
    "* Es posible aproximar $\\color{#E9692C}{p(y_i \\mid \\boldsymbol{\\theta_{-i}^j})}$ usando un método llamado Pareto-Smooth-Importance-Sampling"
   ]
  },
  {
   "cell_type": "markdown",
   "metadata": {
    "slideshow": {
     "slide_type": "slide"
    }
   },
   "source": [
    "## Leche de primates\n",
    "\n",
    "* Queremos explorar la composición de la leche en varias especies de primates.\n",
    "\n",
    "* Se presume que las hembras de especies de primates con cerebros más grandes producen leche más nutritiva\n",
    "\n",
    "* Usaremos 3 variables\n",
    "     * La proporción de neocorteza respecto de la masa total del cerebro\n",
    "     * El logaritmo de la masa corporal de las madres\n",
    "     * Las kilocalorías por gramo de leche (variable respuesta)\n",
    "    \n",
    "* Usaremos 3 modelos lineales diferentes:\n",
    "     1. Un modelo que usa solo la variable neocorteza\n",
    "     2. Un modelo que usa solo el logaritmo de la variable de masa\n",
    "     3. Un modelo que usa ambas variables\n",
    "\n",
    "[Statistical Rethinking](http://xcelab.net/rm/statistical-rethinking/)"
   ]
  },
  {
   "cell_type": "code",
   "execution_count": 7,
   "metadata": {
    "slideshow": {
     "slide_type": "slide"
    }
   },
   "outputs": [
    {
     "data": {
      "text/html": [
       "<div>\n",
       "<style scoped>\n",
       "    .dataframe tbody tr th:only-of-type {\n",
       "        vertical-align: middle;\n",
       "    }\n",
       "\n",
       "    .dataframe tbody tr th {\n",
       "        vertical-align: top;\n",
       "    }\n",
       "\n",
       "    .dataframe thead th {\n",
       "        text-align: right;\n",
       "    }\n",
       "</style>\n",
       "<table border=\"1\" class=\"dataframe\">\n",
       "  <thead>\n",
       "    <tr style=\"text-align: right;\">\n",
       "      <th></th>\n",
       "      <th>kcal.per.g</th>\n",
       "      <th>neocortex</th>\n",
       "      <th>log_mass</th>\n",
       "    </tr>\n",
       "  </thead>\n",
       "  <tbody>\n",
       "    <tr>\n",
       "      <th>0</th>\n",
       "      <td>0.49</td>\n",
       "      <td>-0.123706</td>\n",
       "      <td>-0.831353</td>\n",
       "    </tr>\n",
       "    <tr>\n",
       "      <th>1</th>\n",
       "      <td>0.47</td>\n",
       "      <td>-0.030706</td>\n",
       "      <td>0.158647</td>\n",
       "    </tr>\n",
       "    <tr>\n",
       "      <th>2</th>\n",
       "      <td>0.56</td>\n",
       "      <td>-0.030706</td>\n",
       "      <td>0.181647</td>\n",
       "    </tr>\n",
       "    <tr>\n",
       "      <th>3</th>\n",
       "      <td>0.89</td>\n",
       "      <td>0.000294</td>\n",
       "      <td>-0.579353</td>\n",
       "    </tr>\n",
       "    <tr>\n",
       "      <th>4</th>\n",
       "      <td>0.92</td>\n",
       "      <td>0.012294</td>\n",
       "      <td>-1.885353</td>\n",
       "    </tr>\n",
       "  </tbody>\n",
       "</table>\n",
       "</div>"
      ],
      "text/plain": [
       "   kcal.per.g  neocortex  log_mass\n",
       "0        0.49  -0.123706 -0.831353\n",
       "1        0.47  -0.030706  0.158647\n",
       "2        0.56  -0.030706  0.181647\n",
       "3        0.89   0.000294 -0.579353\n",
       "4        0.92   0.012294 -1.885353"
      ]
     },
     "execution_count": 7,
     "metadata": {},
     "output_type": "execute_result"
    }
   ],
   "source": [
    "d = pd.read_csv('../datos/milk.csv')\n",
    "d.iloc[:,1:] = d.iloc[:,1:] - d.iloc[:,1:].mean()\n",
    "d.head()"
   ]
  },
  {
   "cell_type": "code",
   "execution_count": 8,
   "metadata": {
    "slideshow": {
     "slide_type": "slide"
    }
   },
   "outputs": [
    {
     "name": "stderr",
     "output_type": "stream",
     "text": [
      "Auto-assigning NUTS sampler...\n",
      "Initializing NUTS using jitter+adapt_diag...\n",
      "Multiprocess sampling (4 chains in 4 jobs)\n",
      "NUTS: [α, β, σ]\n"
     ]
    },
    {
     "data": {
      "text/html": [
       "\n",
       "<style>\n",
       "    /* Turns off some styling */\n",
       "    progress {\n",
       "        /* gets rid of default border in Firefox and Opera. */\n",
       "        border: none;\n",
       "        /* Needs to be in here for Safari polyfill so background images work as expected. */\n",
       "        background-size: auto;\n",
       "    }\n",
       "    progress:not([value]), progress:not([value])::-webkit-progress-bar {\n",
       "        background: repeating-linear-gradient(45deg, #7e7e7e, #7e7e7e 10px, #5c5c5c 10px, #5c5c5c 20px);\n",
       "    }\n",
       "    .progress-bar-interrupted, .progress-bar-interrupted::-webkit-progress-bar {\n",
       "        background: #F44336;\n",
       "    }\n",
       "</style>\n"
      ],
      "text/plain": [
       "<IPython.core.display.HTML object>"
      ]
     },
     "metadata": {},
     "output_type": "display_data"
    },
    {
     "data": {
      "text/html": [
       "\n",
       "    <div>\n",
       "      <progress value='12000' class='' max='12000' style='width:300px; height:20px; vertical-align: middle;'></progress>\n",
       "      100.00% [12000/12000 00:02&lt;00:00 Sampling 4 chains, 0 divergences]\n",
       "    </div>\n",
       "    "
      ],
      "text/plain": [
       "<IPython.core.display.HTML object>"
      ]
     },
     "metadata": {},
     "output_type": "display_data"
    },
    {
     "name": "stderr",
     "output_type": "stream",
     "text": [
      "Sampling 4 chains for 1_000 tune and 2_000 draw iterations (4_000 + 8_000 draws total) took 3 seconds.\n"
     ]
    }
   ],
   "source": [
    "with pm.Model() as modelo_0:\n",
    "    α = pm.Normal('α', mu=0, sigma=10)\n",
    "    β = pm.Normal('β', mu=0, sigma=10)\n",
    "    σ = pm.HalfNormal('σ', 10)\n",
    "    \n",
    "    μ = α + β * d['neocortex']\n",
    "    \n",
    "    kcal = pm.Normal('kcal', mu=μ, sigma=σ, observed=d['kcal.per.g'])\n",
    "    idata_0 = pm.sample(2000)"
   ]
  },
  {
   "cell_type": "code",
   "execution_count": 9,
   "metadata": {
    "slideshow": {
     "slide_type": "slide"
    }
   },
   "outputs": [
    {
     "name": "stderr",
     "output_type": "stream",
     "text": [
      "Auto-assigning NUTS sampler...\n",
      "Initializing NUTS using jitter+adapt_diag...\n",
      "Multiprocess sampling (4 chains in 4 jobs)\n",
      "NUTS: [α, β, σ]\n"
     ]
    },
    {
     "data": {
      "text/html": [
       "\n",
       "<style>\n",
       "    /* Turns off some styling */\n",
       "    progress {\n",
       "        /* gets rid of default border in Firefox and Opera. */\n",
       "        border: none;\n",
       "        /* Needs to be in here for Safari polyfill so background images work as expected. */\n",
       "        background-size: auto;\n",
       "    }\n",
       "    progress:not([value]), progress:not([value])::-webkit-progress-bar {\n",
       "        background: repeating-linear-gradient(45deg, #7e7e7e, #7e7e7e 10px, #5c5c5c 10px, #5c5c5c 20px);\n",
       "    }\n",
       "    .progress-bar-interrupted, .progress-bar-interrupted::-webkit-progress-bar {\n",
       "        background: #F44336;\n",
       "    }\n",
       "</style>\n"
      ],
      "text/plain": [
       "<IPython.core.display.HTML object>"
      ]
     },
     "metadata": {},
     "output_type": "display_data"
    },
    {
     "data": {
      "text/html": [
       "\n",
       "    <div>\n",
       "      <progress value='12000' class='' max='12000' style='width:300px; height:20px; vertical-align: middle;'></progress>\n",
       "      100.00% [12000/12000 00:02&lt;00:00 Sampling 4 chains, 0 divergences]\n",
       "    </div>\n",
       "    "
      ],
      "text/plain": [
       "<IPython.core.display.HTML object>"
      ]
     },
     "metadata": {},
     "output_type": "display_data"
    },
    {
     "name": "stderr",
     "output_type": "stream",
     "text": [
      "Sampling 4 chains for 1_000 tune and 2_000 draw iterations (4_000 + 8_000 draws total) took 3 seconds.\n"
     ]
    }
   ],
   "source": [
    "with pm.Model() as model0_1:\n",
    "    α = pm.Normal('α', mu=0, sigma=10)\n",
    "    β = pm.Normal('β', mu=0, sigma=1)\n",
    "    σ = pm.HalfNormal('σ', 10)\n",
    "    \n",
    "    μ = α + β * d['log_mass']\n",
    "    \n",
    "    kcal = pm.Normal('kcal', mu=μ, sigma=σ, observed=d['kcal.per.g'])\n",
    "    \n",
    "    idata_1 = pm.sample(2000)"
   ]
  },
  {
   "cell_type": "code",
   "execution_count": 10,
   "metadata": {
    "slideshow": {
     "slide_type": "slide"
    }
   },
   "outputs": [
    {
     "name": "stderr",
     "output_type": "stream",
     "text": [
      "Auto-assigning NUTS sampler...\n",
      "Initializing NUTS using jitter+adapt_diag...\n",
      "Multiprocess sampling (4 chains in 4 jobs)\n",
      "NUTS: [α, β, σ]\n"
     ]
    },
    {
     "data": {
      "text/html": [
       "\n",
       "<style>\n",
       "    /* Turns off some styling */\n",
       "    progress {\n",
       "        /* gets rid of default border in Firefox and Opera. */\n",
       "        border: none;\n",
       "        /* Needs to be in here for Safari polyfill so background images work as expected. */\n",
       "        background-size: auto;\n",
       "    }\n",
       "    progress:not([value]), progress:not([value])::-webkit-progress-bar {\n",
       "        background: repeating-linear-gradient(45deg, #7e7e7e, #7e7e7e 10px, #5c5c5c 10px, #5c5c5c 20px);\n",
       "    }\n",
       "    .progress-bar-interrupted, .progress-bar-interrupted::-webkit-progress-bar {\n",
       "        background: #F44336;\n",
       "    }\n",
       "</style>\n"
      ],
      "text/plain": [
       "<IPython.core.display.HTML object>"
      ]
     },
     "metadata": {},
     "output_type": "display_data"
    },
    {
     "data": {
      "text/html": [
       "\n",
       "    <div>\n",
       "      <progress value='8000' class='' max='8000' style='width:300px; height:20px; vertical-align: middle;'></progress>\n",
       "      100.00% [8000/8000 00:02&lt;00:00 Sampling 4 chains, 0 divergences]\n",
       "    </div>\n",
       "    "
      ],
      "text/plain": [
       "<IPython.core.display.HTML object>"
      ]
     },
     "metadata": {},
     "output_type": "display_data"
    },
    {
     "name": "stderr",
     "output_type": "stream",
     "text": [
      "Sampling 4 chains for 1_000 tune and 1_000 draw iterations (4_000 + 4_000 draws total) took 3 seconds.\n"
     ]
    }
   ],
   "source": [
    "with pm.Model() as model1_2:\n",
    "    α = pm.Normal('α', mu=0, sigma=10)\n",
    "    β = pm.Normal('β', mu=0, sigma=1, shape=2)\n",
    "    σ = pm.HalfNormal('σ', 10)\n",
    "\n",
    "    μ = α + pm.math.dot(β, d[['neocortex','log_mass']].T)\n",
    "\n",
    "    kcal = pm.Normal('kcal', mu=μ, sigma=σ, observed=d['kcal.per.g'])\n",
    "\n",
    "    idata_2 = pm.sample(1000)"
   ]
  },
  {
   "cell_type": "code",
   "execution_count": 11,
   "metadata": {
    "slideshow": {
     "slide_type": "slide"
    }
   },
   "outputs": [
    {
     "data": {
      "image/png": "[encoded data removed]",
      "text/plain": [
       "<Figure size 1000x500 with 1 Axes>"
      ]
     },
     "metadata": {},
     "output_type": "display_data"
    }
   ],
   "source": [
    "idatas = [idata_0, idata_1, idata_2]\n",
    "az.plot_forest(idatas, figsize=(10, 5), combined=True);"
   ]
  },
  {
   "cell_type": "code",
   "execution_count": 12,
   "metadata": {
    "slideshow": {
     "slide_type": "slide"
    }
   },
   "outputs": [
    {
     "data": {
      "text/html": [
       "<div>\n",
       "<style scoped>\n",
       "    .dataframe tbody tr th:only-of-type {\n",
       "        vertical-align: middle;\n",
       "    }\n",
       "\n",
       "    .dataframe tbody tr th {\n",
       "        vertical-align: top;\n",
       "    }\n",
       "\n",
       "    .dataframe thead th {\n",
       "        text-align: right;\n",
       "    }\n",
       "</style>\n",
       "<table border=\"1\" class=\"dataframe\">\n",
       "  <thead>\n",
       "    <tr style=\"text-align: right;\">\n",
       "      <th></th>\n",
       "      <th>rank</th>\n",
       "      <th>elpd_loo</th>\n",
       "      <th>p_loo</th>\n",
       "      <th>elpd_diff</th>\n",
       "      <th>weight</th>\n",
       "      <th>se</th>\n",
       "      <th>dse</th>\n",
       "      <th>warning</th>\n",
       "      <th>scale</th>\n",
       "    </tr>\n",
       "  </thead>\n",
       "  <tbody>\n",
       "    <tr>\n",
       "      <th>model_2</th>\n",
       "      <td>0</td>\n",
       "      <td>7.517071</td>\n",
       "      <td>2.782225</td>\n",
       "      <td>0.000000</td>\n",
       "      <td>1.000000e+00</td>\n",
       "      <td>2.540048</td>\n",
       "      <td>0.000000</td>\n",
       "      <td>False</td>\n",
       "      <td>log</td>\n",
       "    </tr>\n",
       "    <tr>\n",
       "      <th>model_1</th>\n",
       "      <td>1</td>\n",
       "      <td>4.449432</td>\n",
       "      <td>2.032504</td>\n",
       "      <td>3.067639</td>\n",
       "      <td>0.000000e+00</td>\n",
       "      <td>2.048576</td>\n",
       "      <td>1.104597</td>\n",
       "      <td>False</td>\n",
       "      <td>log</td>\n",
       "    </tr>\n",
       "    <tr>\n",
       "      <th>model_0</th>\n",
       "      <td>2</td>\n",
       "      <td>3.546080</td>\n",
       "      <td>1.959335</td>\n",
       "      <td>3.970992</td>\n",
       "      <td>2.220446e-16</td>\n",
       "      <td>1.555893</td>\n",
       "      <td>2.131862</td>\n",
       "      <td>False</td>\n",
       "      <td>log</td>\n",
       "    </tr>\n",
       "  </tbody>\n",
       "</table>\n",
       "</div>"
      ],
      "text/plain": [
       "         rank  elpd_loo     p_loo  elpd_diff        weight        se  \\\n",
       "model_2     0  7.517071  2.782225   0.000000  1.000000e+00  2.540048   \n",
       "model_1     1  4.449432  2.032504   3.067639  0.000000e+00  2.048576   \n",
       "model_0     2  3.546080  1.959335   3.970992  2.220446e-16  1.555893   \n",
       "\n",
       "              dse  warning scale  \n",
       "model_2  0.000000    False   log  \n",
       "model_1  1.104597    False   log  \n",
       "model_0  2.131862    False   log  "
      ]
     },
     "execution_count": 12,
     "metadata": {},
     "output_type": "execute_result"
    }
   ],
   "source": [
    "model_dict = dict(zip(['model_0', 'model_1', 'model_2'], idatas))\n",
    "comp = az.compare(model_dict)\n",
    "comp"
   ]
  },
  {
   "cell_type": "markdown",
   "metadata": {
    "slideshow": {
     "slide_type": "slide"
    }
   },
   "source": [
    "## Interpretando la comparación\n",
    "\n",
    "* elpd_loo: contiene los valores de LOO\n",
    "* p_loo: el *número efectivo de parámetros* (no lo tomen demasiado en serio)\n",
    "* elpd_diff: la diferencia relativa entre el valor de LOO para el modelo mejor clasificado y el valor de LOO para cada modelo\n",
    "* weight: peso relativo (o probabilidad) de cada modelo (dentro de los modelos comparados)\n",
    "* se: el error estándar de LOO\n",
    "* dse: el error estándar de las diferencias entre el valor de LOO para el modelo mejor clasificado y el valor de LOO para cada modelo.\n",
    "* warning: indica que el cálculo de LOO puede no ser confiable\n",
    "* scale: indica la escala usada para reportar los valores de LOO. La escala usada por defecto es \n",
    "`log`, valores más grandes de loo indican mejores modelos."
   ]
  },
  {
   "cell_type": "code",
   "execution_count": 13,
   "metadata": {
    "slideshow": {
     "slide_type": "slide"
    }
   },
   "outputs": [
    {
     "data": {
      "image/png": "[encoded data removed]",
      "text/plain": [
       "<Figure size 1000x250 with 1 Axes>"
      ]
     },
     "metadata": {},
     "output_type": "display_data"
    }
   ],
   "source": [
    "az.plot_compare(comp, insample_dev=False, plot_ic_diff=False, figsize=(10, 2.5));"
   ]
  },
  {
   "cell_type": "code",
   "execution_count": 14,
   "metadata": {
    "slideshow": {
     "slide_type": "skip"
    }
   },
   "outputs": [
    {
     "ename": "NameError",
     "evalue": "name 'trace_2' is not defined",
     "output_type": "error",
     "traceback": [
      "\u001b[0;31m---------------------------------------------------------------------------\u001b[0m",
      "\u001b[0;31mNameError\u001b[0m                                 Traceback (most recent call last)",
      "Cell \u001b[0;32mIn [14], line 1\u001b[0m\n\u001b[0;32m----> 1\u001b[0m loo_i_2 \u001b[38;5;241m=\u001b[39m az\u001b[38;5;241m.\u001b[39mloo(\u001b[43mtrace_2\u001b[49m, pointwise\u001b[38;5;241m=\u001b[39m\u001b[38;5;28;01mTrue\u001b[39;00m)\u001b[38;5;241m.\u001b[39mloo_i\n\u001b[1;32m      2\u001b[0m loo_i_1 \u001b[38;5;241m=\u001b[39m az\u001b[38;5;241m.\u001b[39mloo(trace_1, pointwise\u001b[38;5;241m=\u001b[39m\u001b[38;5;28;01mTrue\u001b[39;00m)\u001b[38;5;241m.\u001b[39mloo_i\n",
      "\u001b[0;31mNameError\u001b[0m: name 'trace_2' is not defined"
     ]
    }
   ],
   "source": [
    "loo_i_2 = az.loo(trace_2, pointwise=True).loo_i\n",
    "loo_i_1 = az.loo(trace_1, pointwise=True).loo_i"
   ]
  },
  {
   "cell_type": "code",
   "execution_count": null,
   "metadata": {
    "slideshow": {
     "slide_type": "slide"
    }
   },
   "outputs": [],
   "source": [
    "plt.plot(d.index, loo_i_2 - loo_i_1, 'C0.')\n",
    "plt.axhline(0, color='k', ls='--')\n",
    "plt.ylabel('Δ LOO')\n",
    "plt.xlabel('Index');"
   ]
  },
  {
   "cell_type": "markdown",
   "metadata": {
    "slideshow": {
     "slide_type": "slide"
    }
   },
   "source": [
    "## Promediando modelos\n",
    "\n",
    "\n",
    "* En lugar de elegir el mejor modelo, podemos obtener un *metamodelo* promediando todos los modelos\n",
    "\n",
    "$$w_i = \\frac {e^{ - \\frac{1}{2} dIC_i }} {\\sum_j^M e^{ - \\frac{1}{2} dIC_j }}$$\n",
    "\n",
    "\n",
    "* Podemos usar los pesos obtenidos de `az.compare`\n",
    "* Podemos usar `pm.sample_posterior_predictive_w` para obtener predicciones de los modelos ponderados"
   ]
  },
  {
   "cell_type": "code",
   "execution_count": null,
   "metadata": {
    "slideshow": {
     "slide_type": "slide"
    }
   },
   "outputs": [],
   "source": [
    "# weighted predictions\n",
    "ppc_w = pm.sample_posterior_predictive_w(traces, 2000, [model_0, model_1, model_2],\n",
    "                        weights=comp.weight.sort_index(ascending=True), progressbar=False)\n",
    "\n",
    "# predictions from model 2\n",
    "ppc_2 = pm.sample_posterior_predictive(trace_2, 2000, model_2, progressbar=False)"
   ]
  },
  {
   "cell_type": "code",
   "execution_count": null,
   "metadata": {
    "scrolled": true,
    "slideshow": {
     "slide_type": "slide"
    }
   },
   "outputs": [],
   "source": [
    "mean_w = ppc_w['kcal'].mean()\n",
    "hpd_w = pm.hpd(ppc_w['kcal']).mean(0)\n",
    "\n",
    "mean = ppc_2['kcal'].mean()\n",
    "hpd = pm.hpd(ppc_2['kcal']).mean(0)\n",
    "\n",
    "#plt.figure(figsize=(6,3))\n",
    "plt.errorbar(mean, 0.2, xerr=[[mean-hpd[0]], [hpd[1]-mean]], fmt='o', label='modelo 2')\n",
    "plt.errorbar(mean_w, 0, xerr=[[mean_w-hpd_w[0]], [hpd_w[1]-mean_w]], fmt='o', label='modelos pesados')\n",
    "\n",
    "plt.yticks([])\n",
    "plt.ylim(-0.5, 1)\n",
    "plt.xlabel('kcal per g')\n",
    "plt.legend();"
   ]
  },
  {
   "cell_type": "markdown",
   "metadata": {
    "slideshow": {
     "slide_type": "slide"
    }
   },
   "source": [
    "# Factores de Bayes\n",
    "\n",
    "Reescribamos el teorema de Bayes, haciendo explícita la dependencia de la inferencia en un modelo dado $ M $:\n",
    "\n",
    "$$p(\\theta \\mid y, M_k) = {\\frac {p(y \\mid \\theta, M_k)p(\\theta \\mid M_k)}{p(y \\mid M_k)}}$$\n",
    "\n",
    "El término en el denominador se conoce como marginal likelihood, el cociente entre dos likelihood marginales se conoce como factor de Bayes:\n",
    "\n",
    "$$BF = \\frac{p(y \\mid M_0)}{p(y \\mid M_1)}$$\n",
    "\n",
    "* cuando BF > 1, el modelo 0 explica los datos mejor que el modelo 1"
   ]
  },
  {
   "cell_type": "markdown",
   "metadata": {
    "slideshow": {
     "slide_type": "slide"
    }
   },
   "source": [
    "* Usar $p(y \\mid M_k)$ para comparar modelos está bien si todo los **modelos** tienen la misma probabilidad a priori.\n",
    "\n",
    "* Caso contrario tenemos que calcular los _posterior odds_:\n",
    "\n",
    "$$\\underbrace{\\frac{p(M_0 \\mid y)}{p(M_1 \\mid y)}}_\\text{posterior odds} = \\underbrace{\\frac{p(y \\mid M_0)}{p(y \\mid M_1)}}_\\text{Bayes factors} \\, \\underbrace{\\frac{p(\\ M_0 \\ )}{p(\\ M_1 \\ )}}_\\text{prior odds}$$"
   ]
  },
  {
   "cell_type": "markdown",
   "metadata": {
    "slideshow": {
     "slide_type": "slide"
    }
   },
   "source": [
    "## Algunos comentarios sobre los factores de Bayes\n",
    "\n",
    "\n",
    "$$p(y \\mid M_k) = \\int_{\\theta_k} p(y \\mid \\theta_k, M_k) p(\\theta_k, M_k) d\\theta_k$$\n",
    "\n",
    "\n",
    "* Lo bueno: los modelos con más parámetros tienen una penalización mayor que los modelos con menos parámetros. La razón intuitiva es que cuanto mayor sea el número de parámetros, mayor será la dispersión del prior respecto del likelihood\n",
    "\n",
    "* Lo malo: calcular la probabilidad marginal es, en general, una tarea difícil porque es una integral de una función altamente variable en un espacio de parámetros de alta dimensión.\n",
    "\n",
    "* Lo feo: la probabilidad marginal depende *sensiblemente* de los valores del prior\n",
    "\n",
    "* Una forma relativamente simple de calcular los factores de Bayes con PyMC3 es mediante el uso del método de inferencia SMC"
   ]
  },
  {
   "cell_type": "code",
   "execution_count": null,
   "metadata": {},
   "outputs": [],
   "source": [
    "np.exp(idata_BF_0.sample_stats.log_marginal_likelihood.mean() - idata_BF_1.sample_stats.log_marginal_likelihood.mean())"
   ]
  },
  {
   "cell_type": "code",
   "execution_count": null,
   "metadata": {
    "slideshow": {
     "slide_type": "slide"
    }
   },
   "outputs": [],
   "source": [
    "coins = 30 # 300\n",
    "heads = 9 # 90\n",
    "y_d = np.repeat([0, 1], [coins-heads, heads])\n",
    "\n",
    "with pm.Model() as model_BF_0:\n",
    "    theta = pm.Beta('theta', 4, 8)\n",
    "    y = pm.Bernoulli('y', theta, observed=y_d)\n",
    "    idata_BF_0 = pm.sample_smc(2500)\n",
    "\n",
    "with pm.Model() as model_BF_1:\n",
    "    theta = pm.Beta('theta', 8, 4)\n",
    "    y = pm.Bernoulli('y', theta, observed=y_d)\n",
    "    idata_BF_1 = pm.sample_smc(2500)"
   ]
  },
  {
   "cell_type": "code",
   "execution_count": null,
   "metadata": {},
   "outputs": [],
   "source": [
    "np.exp(idata_BF_0.sample_stats.log_marginal_likelihood.mean().item() - \n",
    "       idata_BF_1.sample_stats.log_marginal_likelihood.mean().item())"
   ]
  },
  {
   "cell_type": "markdown",
   "metadata": {
    "slideshow": {
     "slide_type": "slide"
    }
   },
   "source": [
    "## Criterios de información vs Factores de Bayes\n",
    "\n",
    "* El factor Bayes se centra en averiguar cual modelo es mejor (y el posterior es parte del modelo)\n",
    "\n",
    "* WAIC (y LOO) se centran en cual modelo dará las mejores predicciones (el prior se tienen en cuenta indirectamente)"
   ]
  },
  {
   "cell_type": "markdown",
   "metadata": {
    "slideshow": {
     "slide_type": "slide"
    }
   },
   "source": [
    "## Ejercicios\n",
    "\n",
    "1. Explique porqué WAIC es más general que AIC. ¿Bajo que condiciones estos dos criterios son numéricamente similares?\n",
    "\n",
    "1. ¿Cuál es la diferencia entre seleccionar modelos y promediar modelos?\n",
    "\n",
    "1. Al comparar modelos usando criterios de información es necesario usar el mismo conjunto de datos. ¿Por qué? ¿Qué sucede si cambiamos la cantidad de datos?\n",
    "\n",
    "1. ¿Cómo cambia el número efectivo de parámetros (medio por WAIC) a medida que el prior se concentra más?\n",
    "\n",
    "1. ¿Cómo se vincula la respuesta anterior con el concepto de regularización y con el concepto de modelos jerárquicos? ¿Puede un prior reducir el overfitting? ¿Puede un prior favorecer el underfitting?\n",
    "\n",
    "1. Calcule WAIC y BF para los modelos model_BF_0 y model_BF_1. Use (monedas = 30, caras = 9) y luego (monedas = 300, caras = 90). Compare las diferencias en términos de WAIC y BF al aumentar los datos."
   ]
  }
 ],
 "metadata": {
  "celltoolbar": "Slideshow",
  "hide_input": false,
  "kernelspec": {
   "display_name": "Python 3 (ipykernel)",
   "language": "python",
   "name": "python3"
  },
  "language_info": {
   "codemirror_mode": {
    "name": "ipython",
    "version": 3
   },
   "file_extension": ".py",
   "mimetype": "text/x-python",
   "name": "python",
   "nbconvert_exporter": "python",
   "pygments_lexer": "ipython3",
   "version": "3.9.13"
  }
 },
 "nbformat": 4,
 "nbformat_minor": 2
}
